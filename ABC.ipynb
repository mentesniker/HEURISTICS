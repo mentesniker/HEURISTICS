{
 "cells": [
  {
   "cell_type": "code",
   "execution_count": 1,
   "metadata": {},
   "outputs": [],
   "source": [
    "from random import uniform, random\n",
    "from math import e, sqrt, cos, pi\n",
    "import numpy as np\n",
    "import random as random\n",
    "from scipy.optimize import minimize"
   ]
  },
  {
   "cell_type": "code",
   "execution_count": 65,
   "metadata": {},
   "outputs": [],
   "source": [
    "class ABC():\n",
    "    class Bee():\n",
    "        \n",
    "        def get_fitness(self, position, fx):\n",
    "            cost = fx(position)\n",
    "            if(cost >= 0):\n",
    "                return 1/1+cost\n",
    "            return 1 + abs(cost)\n",
    "\n",
    "\n",
    "        def __init__(self, position, fx) -> None:\n",
    "            self.memory = position\n",
    "            self.fitness = self.get_fitness(self.memory,fx)\n",
    "            self.cost = fx(self.memory)\n",
    "            self.fx = fx\n",
    "        \n",
    "\n",
    "        def find_neighbourhood(self, fx):\n",
    "            neighbour = minimize(fx, self.memory, method='COBYLA').x\n",
    "            fitness_neighbour = self.get_fitness(neighbour,fx)\n",
    "            if(fitness_neighbour < self.fitness):\n",
    "                self.memory = neighbour\n",
    "                self.fitness = fitness_neighbour\n",
    "                self.cost = fx(self.memory)\n",
    "                return 1\n",
    "            else:\n",
    "                return 0\n",
    "\n",
    "        def set_memory(self, position):\n",
    "            self.memory = position\n",
    "            self.fitness = self.get_fitness(position,self.fx)\n",
    "            self.cost = self.fx(self.memory)\n",
    "\n",
    "        def get_memory(self):\n",
    "            return self.memory\n",
    "\n",
    "    class OnlookerBee(Bee):\n",
    "\n",
    "        def __init__(self,position, fx) -> None:\n",
    "            self.fx = fx\n",
    "            super().__init__(position,fx)\n",
    "\n",
    "        def comunicate(self, swarm):\n",
    "            population_fitness = sum([bee.fitness for bee in swarm])\n",
    "            bees_probabilities = [bee.fitness/population_fitness for bee in swarm]\n",
    "            bee = np.random.choice(swarm, p=bees_probabilities)\n",
    "            super().set_memory(bee.memory)\n",
    "            better_neighbourhood = super().find_neighbourhood(self.fx)\n",
    "            if(better_neighbourhood == 1):\n",
    "                if(self.cost < bee.cost):\n",
    "                    bee.set_memory(super().get_memory())\n",
    "\n",
    "\n",
    "    class EmployedBee(Bee):\n",
    "\n",
    "        def __init__(self,position, lower, upper, fx) -> None:\n",
    "            super().__init__(position, fx)\n",
    "            self.fx = fx\n",
    "            self.lower = lower\n",
    "            self.upper = upper\n",
    "            self.tries = 0\n",
    "\n",
    "        def move(self, limit):\n",
    "            if(self.tries < limit):\n",
    "                gain = super().find_neighbourhood( self.fx)\n",
    "                if(gain == 0):\n",
    "                    self.tries += 1\n",
    "            else:\n",
    "                self.tries = 0\n",
    "                self.scout()\n",
    "\n",
    "        def scout(self):\n",
    "            super().set_memory(np.array([self.lower + random.uniform(0, 1)*(self.upper-self.lower) for _ in range(0, len(super().get_memory()))]))\n",
    "\n",
    "\n",
    "    def __init__(self,  dimention, num_points, bonds, numlookers, fx) -> None:\n",
    "        self.num_points = num_points\n",
    "        self.fx = fx\n",
    "        self.swarm = [self.EmployedBee(np.array([bonds[0] + random.uniform(0, 1)*(bonds[1]-bonds[0]) for _ in range(0, dimention)]), bonds[0], bonds[1], fx) for _ in range(0, num_points)]\n",
    "        self.unlooker_bees = [self.OnlookerBee(np.ones(numlookers, dtype = int), fx) for _ in range(0, num_points)]\n",
    "        \n",
    "    def run(self, num_iterations, limit):\n",
    "        def find_best():\n",
    "            best_bee = self.swarm[0]\n",
    "            best_cost = self.fx(best_bee.memory)\n",
    "            for workerbee in self.swarm:\n",
    "                cost_bee = workerbee.cost\n",
    "                if(cost_bee < best_cost):\n",
    "                    best_cost = cost_bee\n",
    "                    best_bee = workerbee\n",
    "            for unlookerbee in self.swarm:\n",
    "                cost_bee = unlookerbee.cost\n",
    "                if(cost_bee < best_cost):\n",
    "                    best_cost = cost_bee\n",
    "                    best_bee = unlookerbee\n",
    "            return best_bee\n",
    "        for unlookerbee in self.unlooker_bees:\n",
    "            unlookerbee.comunicate(self.swarm)\n",
    "        best_bee = find_best()\n",
    "        for _ in range(0, num_iterations):\n",
    "            for workerbee in self.swarm:\n",
    "                workerbee.move( limit)\n",
    "            for unlookerbee in self.unlooker_bees:\n",
    "                unlookerbee.comunicate(self.swarm)\n",
    "            act_best = find_best()\n",
    "            if(act_best.cost < best_bee.cost):\n",
    "                best_bee = act_best      \n",
    "        return best_bee.memory"
   ]
  },
  {
   "cell_type": "markdown",
   "metadata": {},
   "source": [
    "## TEST'S"
   ]
  },
  {
   "cell_type": "markdown",
   "metadata": {},
   "source": [
    "### Himmelblau's function"
   ]
  },
  {
   "cell_type": "markdown",
   "metadata": {},
   "source": [
    "![alt text](him.png \"Title\")"
   ]
  },
  {
   "cell_type": "code",
   "execution_count": 66,
   "metadata": {},
   "outputs": [],
   "source": [
    "fx = lambda x : (x[0]**2 + x[1] - 11)**2 + (x[0] + x[1]**2 -7)**2"
   ]
  },
  {
   "cell_type": "code",
   "execution_count": 67,
   "metadata": {},
   "outputs": [
    {
     "data": {
      "text/plain": [
       "array([ 3.58440774, -1.8481622 ])"
      ]
     },
     "execution_count": 67,
     "metadata": {},
     "output_type": "execute_result"
    }
   ],
   "source": [
    "abc =  ABC(dimention=2, num_points=30, bonds=[-5, 5], numlookers=30, fx=fx)\n",
    "abc.run(num_iterations=200, limit=50)"
   ]
  },
  {
   "cell_type": "markdown",
   "metadata": {},
   "source": [
    "### Ackley function"
   ]
  },
  {
   "cell_type": "markdown",
   "metadata": {},
   "source": [
    "![alt text](akley.png \"Title\")"
   ]
  },
  {
   "cell_type": "code",
   "execution_count": 68,
   "metadata": {},
   "outputs": [],
   "source": [
    "fx = lambda x : -20*e**(-0.2*sqrt(0.5*(x[0]**2 + x[1]**2)))-e**(0.5*(cos(2*pi*x[1])+cos(2*pi*x[0])))+e+20"
   ]
  },
  {
   "cell_type": "code",
   "execution_count": 69,
   "metadata": {},
   "outputs": [
    {
     "data": {
      "text/plain": [
       "array([4.25188009e-06, 4.84687379e-05])"
      ]
     },
     "execution_count": 69,
     "metadata": {},
     "output_type": "execute_result"
    }
   ],
   "source": [
    "abc = ABC(dimention=2, num_points=50, bonds=[-5, 5], numlookers=30, fx=fx)\n",
    "abc.run(num_iterations=200, limit=20)"
   ]
  },
  {
   "cell_type": "markdown",
   "metadata": {},
   "source": [
    "### Rastrigin"
   ]
  },
  {
   "cell_type": "markdown",
   "metadata": {},
   "source": [
    "![alt text](ras.png \"Title\")"
   ]
  },
  {
   "cell_type": "code",
   "execution_count": 70,
   "metadata": {},
   "outputs": [],
   "source": [
    "fx = lambda x : 10*2 + (x[0]**2 - 10*cos(2*pi*x[0])) + (x[1]**2 - 10*cos(2*pi*x[1]))"
   ]
  },
  {
   "cell_type": "code",
   "execution_count": 71,
   "metadata": {},
   "outputs": [
    {
     "data": {
      "text/plain": [
       "array([ 2.25179704e-05, -2.97984229e-05])"
      ]
     },
     "execution_count": 71,
     "metadata": {},
     "output_type": "execute_result"
    }
   ],
   "source": [
    "abc = ABC(dimention=2, num_points=50, bonds=[-5, 5], numlookers=30, fx=fx)\n",
    "abc.run(num_iterations=200, limit=20)"
   ]
  }
 ],
 "metadata": {
  "interpreter": {
   "hash": "916dbcbb3f70747c44a77c7bcd40155683ae19c65e1c03b4aa3499c5328201f1"
  },
  "kernelspec": {
   "display_name": "Python 3.8.10 64-bit",
   "name": "python3"
  },
  "language_info": {
   "codemirror_mode": {
    "name": "ipython",
    "version": 3
   },
   "file_extension": ".py",
   "mimetype": "text/x-python",
   "name": "python",
   "nbconvert_exporter": "python",
   "pygments_lexer": "ipython3",
   "version": "3.8.10"
  },
  "orig_nbformat": 4
 },
 "nbformat": 4,
 "nbformat_minor": 2
}
