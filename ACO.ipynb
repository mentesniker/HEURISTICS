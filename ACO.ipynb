{
 "cells": [
  {
   "cell_type": "code",
   "execution_count": 3,
   "metadata": {},
   "outputs": [],
   "source": [
    "from random import random, uniform\n",
    "from scipy.optimize import minimize\n",
    "from math import e, sqrt,cos,pi"
   ]
  },
  {
   "cell_type": "code",
   "execution_count": 4,
   "metadata": {},
   "outputs": [],
   "source": [
    "'''\n",
    "Class Point.\n",
    "A point is an object that has a position and a pheromone that leads\n",
    "to the point.\n",
    "'''\n",
    "class Point():\n",
    "    '''\n",
    "    The constructor of the class.\n",
    "    Params: \n",
    "        - point: a coordinate. \n",
    "        - pheromone:  the pheromone that leads to the point.\n",
    "    '''\n",
    "    def __init__(self, point, pheromone) -> None:\n",
    "        self.point = point\n",
    "        self.pheromone = pheromone\n",
    "    \n",
    "    '''\n",
    "    Method to get the coordinates of the point.\n",
    "    Return: \n",
    "        - point: The coordinates of the point.\n",
    "    '''\n",
    "    def get_point(self):\n",
    "        return self.point\n",
    "    \n",
    "    '''\n",
    "    Method to get the pheromone of the point.\n",
    "    Return: \n",
    "        - point: The pheromone of the point.\n",
    "    '''\n",
    "    def get_pheromone(self):\n",
    "        return self.pheromone\n",
    "\n",
    "    '''\n",
    "    Method to set the pheromone of the point.\n",
    "    Params: \n",
    "        - pheromone: The pheromone of the point.\n",
    "    '''\n",
    "    def set_pheromone(self, pheromone):\n",
    "        self.pheromone = pheromone\n",
    "    \n",
    "    '''\n",
    "    Method to set a coordinate of the point.\n",
    "    Params: \n",
    "        - point: The coordinate of the point.\n",
    "    '''\n",
    "    def set_point(self, point):\n",
    "        self.point = point\n",
    "\n",
    "    '''\n",
    "    Method that returns the string representation of the point.\n",
    "    Return: \n",
    "        - string: the string representation of the point.\n",
    "    '''\n",
    "    def __str__(self):\n",
    "        return \"point: \" + str(self.point) + \",\" + \"pheromone: \" + str(self.pheromone)\n",
    "'''\n",
    "Class Ant.\n",
    "An ant is an object that has a position, a memory and a limit for it's memory.\n",
    "An ant can move, forget/remember previous visited places and return it's location.\n",
    "'''\n",
    "class Ant():\n",
    "    '''\n",
    "    The constructor of the class.\n",
    "    Params: \n",
    "        - memory_limit: the maximum number of previous visited placed that an\n",
    "        ant can remember.\n",
    "    '''\n",
    "    def __init__(self, memory_limit) -> None:\n",
    "        self.memory = list()\n",
    "        self.memory_limit = memory_limit\n",
    "        self.current_localization = list()\n",
    "    '''\n",
    "    Method to clear the ant location.\n",
    "    '''\n",
    "    def clear_location(self):\n",
    "        self.current_localization = list()\n",
    "\n",
    "    '''\n",
    "    Method to get the coordinates of the ant location.\n",
    "    Return: \n",
    "        - list: the list of coordinates of the ant position.\n",
    "    '''\n",
    "    def get_location(self):\n",
    "        output_list = list()\n",
    "        for point in self.current_localization:\n",
    "            output_list.append(point.get_point())\n",
    "        return output_list\n",
    "\n",
    "    '''\n",
    "    Method to update the position of the ant.\n",
    "    Params: \n",
    "        - new_location: a list that contains the coordinates of the\n",
    "        new location.\n",
    "    '''\n",
    "    def update_location(self, new_location):\n",
    "        for i in range(len(self.current_localization)):\n",
    "            self.current_localization[i].set_point(new_location[i])\n",
    "\n",
    "    '''\n",
    "    Method that adds a point to the list that contains\n",
    "    the location of the ant.\n",
    "    '''\n",
    "    def assign_point(self, point):\n",
    "        self.current_localization.append(point)\n",
    "\n",
    "    '''\n",
    "    Method that updates the pheromone of the current location\n",
    "    point of the ant.\n",
    "    Params: \n",
    "        - error: The error induced by the best solution in the colony.\n",
    "    '''\n",
    "    def update_pheromone(self, error):\n",
    "        for point in self.current_localization:\n",
    "            point.set_pheromone(point.get_pheromone() + (1/error))\n",
    "\n",
    "    '''\n",
    "    Method to save a new location in the ant memory.\n",
    "    Params: \n",
    "        - point: the point that will be saved in the ant memory\n",
    "    Return:\n",
    "        - True: if the point was added to the memory and False otherwise.\n",
    "    '''\n",
    "    def set_memory(self, point):\n",
    "        for p in self.memory:\n",
    "            if(point.get_point() == p.get_point()): \n",
    "                return False\n",
    "        self.memory.append(point)\n",
    "        if( len(self.memory) > self.memory_limit ):\n",
    "            del self.memory[0]\n",
    "        return True\n",
    "\n",
    "    '''\n",
    "    Method that returns the string representation of the bat.\n",
    "    Return: \n",
    "        - string: the string representation of the bat.\n",
    "    '''\n",
    "    def __str__(self):\n",
    "        memory = \"\"\n",
    "        for point in self.memory:\n",
    "            memory += \" \" + str(point) + \" \"\n",
    "        location = \"\"\n",
    "        for point in self.current_localization:\n",
    "            location += \" \" + str(point) + \" \"\n",
    "        return \"memory: \" + memory + \" and \" + \"current location\" + location\n",
    "\n",
    "'''\n",
    "Class PointList.\n",
    "A list that contains points.\n",
    "'''\n",
    "class PointsList():\n",
    "    '''\n",
    "    The constructor of the class.\n",
    "    Params: \n",
    "        - list_of_points: the list of points.\n",
    "    '''\n",
    "    def __init__(self, list_of_points) -> None:\n",
    "        self.points = list_of_points\n",
    "    \n",
    "    '''\n",
    "    Method that returns the point object that has the higher pheromone.\n",
    "    Return: \n",
    "        - Point: the point with the higher pheromone trail.\n",
    "    '''\n",
    "    def get_best_point(self):\n",
    "        best_point = Point(0,0)\n",
    "        for point in self.points:\n",
    "            if(point.get_pheromone() > best_point.get_pheromone()):\n",
    "                best_point = point\n",
    "        return best_point\n",
    "\n",
    "    '''\n",
    "    Method that returns the sum of the pheromones of the list of points.\n",
    "    Return: \n",
    "        - float: the total pf pheromones.\n",
    "    '''\n",
    "    def get_total_pheromones(self):\n",
    "        total = 0\n",
    "        for point in self.points:\n",
    "            total += point.get_pheromone()\n",
    "        return total\n",
    "\n",
    "    '''\n",
    "    Method that returns the list of points.\n",
    "    Return: \n",
    "        - list: the the list of points.\n",
    "    '''\n",
    "    def get_list_points(self):\n",
    "        return self.points\n",
    "\n",
    "    '''\n",
    "    Method that evaporates the pheromones in the points.\n",
    "    '''\n",
    "    def evaporate_pheromone(self, p):\n",
    "        for point in self.points:\n",
    "            point.set_pheromone((1-p)*point.get_pheromone())\n",
    "\n",
    "'''\n",
    "Class ACO.\n",
    "Class to run the ant colony optimization with respect of the\n",
    "given function.\n",
    "'''\n",
    "class ACO():\n",
    "    '''\n",
    "    The constructor of the class.\n",
    "    Params: \n",
    "        - num_params: the number of dimentios of the objective function.\n",
    "        - discrete_points: the number of discrete points to sample.\n",
    "        - interval: an interval to draw number from.\n",
    "        - number_ants: The number of ants of the colony.\n",
    "        - q: A constant.\n",
    "        - evaporation_rate: A constant to control the evaporation of the pheromone.\n",
    "        - num_iterations (optional): The number of iterations of the algorithm.\n",
    "    '''\n",
    "    def __init__(self, num_params, discrete_points, interval, number_ants, q, evaporation_rate, num_iterations = 50) -> None:\n",
    "        self.number_params = num_params\n",
    "        self.num_iterations = num_iterations\n",
    "        self.discrete_points = discrete_points\n",
    "        self.points = list()\n",
    "        self.q = q\n",
    "        self.p = evaporation_rate\n",
    "        self.ants = [Ant(num_params) for _ in range(0, number_ants)]\n",
    "        for _ in range(0,self.number_params):\n",
    "            self.points.append(PointsList([Point(uniform(interval[0],interval[1]), 1/2) for _ in range(discrete_points)]))\n",
    "\n",
    "    '''\n",
    "    Method that returns the best ant and it's cost \n",
    "    with respect to the cost function.\n",
    "    Return: \n",
    "        - Ant: the best ant in the colony.\n",
    "        - float: the cost of the best ant.\n",
    "    '''\n",
    "    def get_best_ant(self, function):\n",
    "        cost = 0\n",
    "        best_ant = self.ants[0]\n",
    "        for ant in self.ants:\n",
    "            ant_cost = -1 * (function(ant.get_location()))\n",
    "            if(ant_cost < cost):\n",
    "                cost = ant_cost\n",
    "                best_ant = ant\n",
    "        return best_ant, cost\n",
    "\n",
    "    '''\n",
    "    Method that does a local search around the current position\n",
    "    of an ant.\n",
    "    '''\n",
    "    def local_search(self, function):\n",
    "        for ant in self.ants:\n",
    "            res = minimize(function, ant.get_location(), method='COBYLA')\n",
    "            ant.update_location(res.x)\n",
    "\n",
    "    '''\n",
    "    Method that updates the pheromone of the ants in the colony.\n",
    "    '''\n",
    "    def update_pheromone(self, ant, cost):\n",
    "        ant.update_pheromone(cost)\n",
    "        for point_list in self.points:\n",
    "            point_list.evaporate_pheromone(self.p)\n",
    "\n",
    "    '''\n",
    "    Method in which the ants in the colony decides to move to a location\n",
    "    based on the pheromone trail or on a probabilistic desition.\n",
    "    '''\n",
    "    def probabilistic_construction(self):\n",
    "        for ant in self.ants:\n",
    "            ant.clear_location()\n",
    "            if(random() > 1 - self.q):\n",
    "                for point_list in self.points:\n",
    "                    ant_asigned = ant.set_memory(point_list.get_best_point())\n",
    "                    ant.assign_point(point_list.get_best_point())\n",
    "            else:\n",
    "                for point_list in self.points:\n",
    "                    for point in point_list.get_list_points():\n",
    "                        if(random() > (point.get_pheromone())/point_list.get_total_pheromones()):\n",
    "                            ant_asigned = ant.set_memory(point)\n",
    "                            if (ant_asigned):\n",
    "                                ant.assign_point(point)\n",
    "                                break\n",
    "\n",
    "    '''\n",
    "    Method to run the PSO heuristic over the objective function.\n",
    "    Params: \n",
    "        - fx: the cost function.\n",
    "    Return: \n",
    "        -list: a list with the best point find by the colony.\n",
    "        -float: the cost of the best point found by the colony.\n",
    "    '''\n",
    "    def run(self,fx):\n",
    "        aco.probabilistic_construction()\n",
    "        aco.local_search(fx)\n",
    "        best_ant, best_cost = aco.get_best_ant(fx)\n",
    "        if(best_cost == 0):\n",
    "            print(\"solution found\")\n",
    "            return ant.get_location()\n",
    "        else:\n",
    "            aco.update_pheromone(best_ant, -1*best_cost)\n",
    "        for i in range(self.num_iterations):\n",
    "            aco.probabilistic_construction()\n",
    "            aco.local_search(fx)\n",
    "            ant, cost = aco.get_best_ant(fx)\n",
    "            if(cost == 0):\n",
    "                print(\"solution found\")\n",
    "                return ant.get_location()\n",
    "            else:\n",
    "                aco.update_pheromone(ant, -1*cost)\n",
    "                if(i % 25 == 0):\n",
    "                    print(\"iteration \" + str(i) + \" with cost of \" + str(-1*cost))\n",
    "            if(cost < best_cost):\n",
    "                best_ant = ant\n",
    "                best_cost = cost\n",
    "        return best_ant.get_location(),best_cost \n",
    "                        "
   ]
  },
  {
   "cell_type": "markdown",
   "metadata": {},
   "source": [
    "## TEST'S"
   ]
  },
  {
   "cell_type": "markdown",
   "metadata": {},
   "source": [
    "### Himmelblau's function"
   ]
  },
  {
   "cell_type": "markdown",
   "metadata": {},
   "source": [
    "![alt text](him.png \"Title\")"
   ]
  },
  {
   "cell_type": "code",
   "execution_count": 219,
   "metadata": {},
   "outputs": [],
   "source": [
    "fx = lambda x : (x[0]**2 + x[1] - 11)**2 + (x[0] + x[1]**2 -7)**2"
   ]
  },
  {
   "cell_type": "code",
   "execution_count": 203,
   "metadata": {},
   "outputs": [
    {
     "data": {
      "text/plain": [
       "     fun: 2.648055705595566e-07\n",
       "   maxcv: 0.0\n",
       " message: 'Optimization terminated successfully.'\n",
       "    nfev: 44\n",
       "  status: 1\n",
       " success: True\n",
       "       x: array([ 3.58449999, -1.84814548])"
      ]
     },
     "execution_count": 203,
     "metadata": {},
     "output_type": "execute_result"
    }
   ],
   "source": [
    "minimize(fx, [uniform(-5,5),uniform(-5,5)], method='COBYLA')"
   ]
  },
  {
   "cell_type": "code",
   "execution_count": 220,
   "metadata": {},
   "outputs": [
    {
     "name": "stdout",
     "output_type": "stream",
     "text": [
      "iteration 0 with cost of 5.655259173415215e-07\n",
      "iteration 25 with cost of 34.9812997571636\n",
      "iteration 50 with cost of 4.150933615619393e-07\n",
      "iteration 75 with cost of 4.557373861387135e-07\n",
      "The ant location was: [2.999994508708392, 1.9999901130873414]\n"
     ]
    }
   ],
   "source": [
    "aco = ACO(num_params=2,discrete_points=100,interval=[-5,5],\n",
    "number_ants=20,q=0.01, evaporation_rate=0.9, num_iterations = 100)\n",
    "local, cost = aco.run(fx)\n",
    "print(\"The ant location was: \" + str(local))"
   ]
  },
  {
   "cell_type": "markdown",
   "metadata": {},
   "source": [
    "### Ackley function"
   ]
  },
  {
   "cell_type": "markdown",
   "metadata": {},
   "source": [
    "![alt text](akley.png \"Title\")"
   ]
  },
  {
   "cell_type": "code",
   "execution_count": 221,
   "metadata": {},
   "outputs": [],
   "source": [
    "fx = lambda x : -20*e**(-0.2*sqrt(0.5*(x[0]**2 + x[1]**2)))-e**(0.5*(cos(2*pi*x[1])+cos(2*pi*x[0])))+e+20"
   ]
  },
  {
   "cell_type": "code",
   "execution_count": 201,
   "metadata": {},
   "outputs": [
    {
     "data": {
      "text/plain": [
       "     fun: 0.0003354255648062576\n",
       "   maxcv: 0.0\n",
       " message: 'Optimization terminated successfully.'\n",
       "    nfev: 44\n",
       "  status: 1\n",
       " success: True\n",
       "       x: array([-4.31722953e-05,  1.10311491e-04])"
      ]
     },
     "execution_count": 201,
     "metadata": {},
     "output_type": "execute_result"
    }
   ],
   "source": [
    "minimize(fx, [uniform(-5,5),uniform(-5,5)], method='COBYLA')"
   ]
  },
  {
   "cell_type": "code",
   "execution_count": 222,
   "metadata": {},
   "outputs": [
    {
     "name": "stdout",
     "output_type": "stream",
     "text": [
      "iteration 0 with cost of 0.0001793948011794555\n",
      "iteration 25 with cost of 0.0004967078082778187\n",
      "iteration 50 with cost of 0.0004038308119049816\n",
      "iteration 75 with cost of 0.0002325746366764747\n",
      "The ant location was: [8.102717413325142e-06, -0.0001279816775409477]\n"
     ]
    }
   ],
   "source": [
    "aco = ACO(num_params=2,discrete_points=100,interval=[-5,5],\n",
    "number_ants=20,q=0.01, evaporation_rate=0.9, num_iterations = 100)\n",
    "local, cost = aco.run(fx)\n",
    "print(\"The ant location was: \" + str(local))"
   ]
  },
  {
   "cell_type": "markdown",
   "metadata": {},
   "source": [
    "### Rastrigin"
   ]
  },
  {
   "cell_type": "markdown",
   "metadata": {},
   "source": [
    "![alt text](ras.png \"Title\")"
   ]
  },
  {
   "cell_type": "code",
   "execution_count": 7,
   "metadata": {},
   "outputs": [],
   "source": [
    "fx = lambda x : 10*2 + (x[0]**2 - 10*cos(2*pi*x[0])) + (x[1]**2 - 10*cos(2*pi*x[1]))"
   ]
  },
  {
   "cell_type": "code",
   "execution_count": 8,
   "metadata": {},
   "outputs": [
    {
     "data": {
      "text/plain": [
       "     fun: 0.9949618630896477\n",
       "   maxcv: 0.0\n",
       " message: 'Optimization terminated successfully.'\n",
       "    nfev: 41\n",
       "  status: 1\n",
       " success: True\n",
       "       x: array([-9.56470955e-05, -9.95029333e-01])"
      ]
     },
     "execution_count": 8,
     "metadata": {},
     "output_type": "execute_result"
    }
   ],
   "source": [
    "minimize(fx, [uniform(-5,5),uniform(-5,5)], method='COBYLA')"
   ]
  },
  {
   "cell_type": "code",
   "execution_count": 6,
   "metadata": {},
   "outputs": [
    {
     "name": "stdout",
     "output_type": "stream",
     "text": [
      "iteration 0 with cost of 3.979831388054432\n",
      "iteration 25 with cost of 3.9798349026176734\n",
      "iteration 50 with cost of 3.9798313086838206\n",
      "iteration 75 with cost of 3.9798328401588368\n",
      "The ant location was: [3.374949091509218e-05, -5.7081542194723354e-05]\n"
     ]
    }
   ],
   "source": [
    "aco = ACO(num_params=2,discrete_points=100,interval=[-5,5],\n",
    "number_ants=20,q=0.01, evaporation_rate=0.9, num_iterations = 100)\n",
    "local, cost = aco.run(fx)\n",
    "print(\"The ant location was: \" + str(local))"
   ]
  }
 ],
 "metadata": {
  "interpreter": {
   "hash": "916dbcbb3f70747c44a77c7bcd40155683ae19c65e1c03b4aa3499c5328201f1"
  },
  "kernelspec": {
   "display_name": "Python 3.8.10 64-bit",
   "name": "python3"
  },
  "language_info": {
   "codemirror_mode": {
    "name": "ipython",
    "version": 3
   },
   "file_extension": ".py",
   "mimetype": "text/x-python",
   "name": "python",
   "nbconvert_exporter": "python",
   "pygments_lexer": "ipython3",
   "version": "3.8.10"
  },
  "orig_nbformat": 4
 },
 "nbformat": 4,
 "nbformat_minor": 2
}
