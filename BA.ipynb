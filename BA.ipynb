{
 "cells": [
  {
   "cell_type": "code",
   "execution_count": 4,
   "metadata": {},
   "outputs": [],
   "source": [
    "from random import uniform, random\n",
    "from math import e, sqrt,cos,pi\n",
    "import numpy as np"
   ]
  },
  {
   "cell_type": "code",
   "execution_count": 16,
   "metadata": {},
   "outputs": [],
   "source": [
    "'''\n",
    "Class Bat.\n",
    "A bat is an object that has a position, velocity, a minimal/maximal frecuency of supersonic bursts,\n",
    "a loudness of the burts and a pulse interval for the burts.\n",
    "'''\n",
    "class Bat():\n",
    "    '''\n",
    "    The constructor of the class.\n",
    "    Params: \n",
    "        - frecuency_min:  The minimum frecuency that the bat is capable of producing.\n",
    "        - frecuency_max:  The maximum frecuency that the bat is capable of producing.\n",
    "        - postion: A numpy array that contains the initial position of the bat.\n",
    "        - velocity: A numpy array that contains the velocities of the bat. One entry for dimention.\n",
    "    '''\n",
    "    def __init__(self,frecuency_min, frecuency_max, position, velocity) -> None:\n",
    "        self.frecuency_min = frecuency_min\n",
    "        self.frecuency_max = frecuency_max\n",
    "        self.current_frecuency = uniform(frecuency_min,frecuency_max)\n",
    "        self.loudness = 1\n",
    "        random_number = random()\n",
    "        self.pulse_interval_initial = random_number\n",
    "        self.current_pulse_interval = random_number\n",
    "        self.velocity = np.array(velocity)\n",
    "        self.position = np.array(position)\n",
    "\n",
    "    '''\n",
    "    Method to update the frecuency of a bat.\n",
    "    '''\n",
    "    def update_frecuency(self):\n",
    "        beta = random()\n",
    "        self.current_frecuency = self.frecuency_min + (self.frecuency_max-self.frecuency_min)*beta\n",
    "\n",
    "    '''\n",
    "    Method to update the flying speed of the bat.\n",
    "    Params: \n",
    "        - best_sol: The best position fiound by the cloud of bats.\n",
    "    '''\n",
    "    def update_velocity(self, best_sol):\n",
    "        self.velocity = self.velocity + (self.position - best_sol)*self.current_frecuency\n",
    "    \n",
    "    '''\n",
    "    Method to update the position of the bat.\n",
    "    '''\n",
    "    def update_position(self):\n",
    "        self.position = self.position + self.velocity\n",
    "    \n",
    "    '''\n",
    "    Method to update the loudness of the burts produced by the bat.\n",
    "    Params: \n",
    "        - alfa: constant to control the adjustment of the loudness.\n",
    "    '''\n",
    "    def update_loudness(self, alfa):\n",
    "        self.loudness = alfa* self.loudness\n",
    "\n",
    "    '''\n",
    "    Method to update the pulse intervals of the burts produced by the bat.\n",
    "    Params: \n",
    "        - gamma: constant to control the adjustment of the pulse.\n",
    "        - t: number of the iteration of the algorithm.\n",
    "    '''\n",
    "    def update_pulse_interval(self, gamma, t):\n",
    "        self.current_pulse_interval = self.pulse_interval_initial*(1-(e**(gamma*-1*t)))\n",
    "\n",
    "    '''\n",
    "    Method to update the position of the bat by flying randomly around a position.\n",
    "    Params: \n",
    "        - average_loudness: The average loudness of the cloud of bats.\n",
    "        - flying_initial: The initial position of the flight.\n",
    "    '''\n",
    "    def fly_randomly(self, average_loudness, flying_initial):\n",
    "        epsilon = random()\n",
    "        self.position = flying_initial+epsilon*average_loudness\n",
    "\n",
    "'''\n",
    "Class Cloud.\n",
    "A  cloud of bats is a set that contains a group of flying bats.\n",
    "'''\n",
    "class Cloud():\n",
    "    '''\n",
    "    The constructor of the class.\n",
    "    Params: \n",
    "        - bats:  The bats that form part of the cloud.\n",
    "    '''\n",
    "    def __init__(self,bats) -> None:\n",
    "        self.bats = bats\n",
    "    \n",
    "    '''\n",
    "    Method to get the best position of the cloud of bats.\n",
    "    Params: \n",
    "        - c1, c2: social coeficients of the swarm.\n",
    "        - w: Constant to control the flying speed.\n",
    "        - num_iteration: The number of the iterations for the PSO heuristic.\n",
    "    Return: \n",
    "        - best_bat.position: A numpy array that contains the best position of the\n",
    "        best bat in the cloud.\n",
    "        - current_cost_best: The cost of the best position.\n",
    "    '''\n",
    "    def get_best_position(self, function):\n",
    "        best_bat = self.bats[0]\n",
    "        current_cost_best = function(best_bat.position)\n",
    "        for bat in self.bats:\n",
    "            current_cost_bat = function(bat.position)\n",
    "            if(current_cost_bat < current_cost_best):\n",
    "                best_bat = bat\n",
    "                current_cost_best = current_cost_bat\n",
    "        return best_bat.position, current_cost_best\n",
    "\n",
    "    '''\n",
    "    Method to get the average loudness of the cloud of bats.\n",
    "    Return: \n",
    "        - average/len(self.bats): the average loudness.\n",
    "    '''\n",
    "    def get_average_loudness(self):\n",
    "        average = 0\n",
    "        for bat in self.bats:\n",
    "            average += bat.loudness\n",
    "        return average/len(self.bats)\n",
    "'''\n",
    "Class BA.\n",
    "Class to run the bat optimization heuristic with respect of the\n",
    "given function.\n",
    "'''\n",
    "class BA():\n",
    "    '''\n",
    "    The constructor of the class.\n",
    "    Params: \n",
    "        - number_of_bats:  The number of bats in the cloud.\n",
    "        - num_dimentions:  number of dimentions of the cost function.\n",
    "        - interval: An interval to calculate the intial position of the bats.\n",
    "        - alfa: A number to control the loudness of the bats.\n",
    "        - gamma:  A number to control the pulse intervals of the bats.\n",
    "        - number_of_iterations (optional): The number of the iterations of the heuristic.\n",
    "    '''\n",
    "    def __init__(self, number_of_bats, num_dimentions, interval, alfa, gamma, number_of_iterations=50) -> None:\n",
    "        self.number_of_iterations = number_of_iterations\n",
    "        self.alfa = alfa\n",
    "        self.gamma = gamma\n",
    "        bats = list()\n",
    "        for _ in range(0,number_of_bats):\n",
    "            ##todo check velocity and init position\n",
    "            bats.append(Bat(frecuency_min=0, frecuency_max=100,\n",
    "             position=[uniform(interval[0], interval[1]) for _ in range(0,num_dimentions)], velocity=[uniform(interval[0], interval[1]) for _ in range(0,num_dimentions)]))\n",
    "        self.cloud_of_bats = Cloud(bats)\n",
    "    \n",
    "    '''\n",
    "    Method to run the PSO heuristic over the objective function.\n",
    "    Params: \n",
    "        - function: The objective function.\n",
    "    Return: \n",
    "        - solution_position: The best position found by the cloud of bats.\n",
    "    '''\n",
    "    def run(self, function):\n",
    "        solution_position, best_cost = self.cloud_of_bats.get_best_position(function)\n",
    "        for t in range(1, self.number_of_iterations):\n",
    "            best_position, best_cost = self.cloud_of_bats.get_best_position(function)\n",
    "            average_loudness = self.cloud_of_bats.get_average_loudness()\n",
    "            for bat in self.cloud_of_bats.bats:\n",
    "                random_number = random()\n",
    "                bat.update_frecuency()\n",
    "                bat.update_velocity(best_position)\n",
    "                bat.update_position()\n",
    "                if(random_number > bat.current_pulse_interval):\n",
    "                    bat.fly_randomly(average_loudness, best_position)\n",
    "                bat.fly_randomly(average_loudness, bat.position)\n",
    "                if(random_number < bat.loudness and function(bat.position) < best_cost):\n",
    "                    #todo accept solutions\n",
    "                    solution_position = best_position\n",
    "                    bat.update_loudness(self.alfa)\n",
    "                    bat.update_pulse_interval(self.gamma, t)\n",
    "        return solution_position\n"
   ]
  },
  {
   "cell_type": "markdown",
   "metadata": {},
   "source": [
    "## TEST'S"
   ]
  },
  {
   "cell_type": "markdown",
   "metadata": {},
   "source": [
    "### Himmelblau's function"
   ]
  },
  {
   "cell_type": "markdown",
   "metadata": {},
   "source": [
    "![alt text](him.png \"Title\")"
   ]
  },
  {
   "cell_type": "code",
   "execution_count": 17,
   "metadata": {},
   "outputs": [],
   "source": [
    "fx = lambda x : (x[0]**2 + x[1] - 11)**2 + (x[0] + x[1]**2 -7)**2"
   ]
  },
  {
   "cell_type": "code",
   "execution_count": 23,
   "metadata": {},
   "outputs": [
    {
     "name": "stderr",
     "output_type": "stream",
     "text": [
      "/tmp/ipykernel_202/3189032922.py:1: RuntimeWarning: overflow encountered in double_scalars\n",
      "  fx = lambda x : (x[0]**2 + x[1] - 11)**2 + (x[0] + x[1]**2 -7)**2\n"
     ]
    },
    {
     "data": {
      "text/plain": [
       "array([ 3.51650226, -2.30275484])"
      ]
     },
     "execution_count": 23,
     "metadata": {},
     "output_type": "execute_result"
    }
   ],
   "source": [
    "ba = BA(number_of_bats=20, num_dimentions=2, interval=[-5,5], number_of_iterations=50, alfa= 0.9, gamma=0.9)\n",
    "ba.run(fx)"
   ]
  },
  {
   "cell_type": "markdown",
   "metadata": {},
   "source": [
    "### Ackley function"
   ]
  },
  {
   "cell_type": "markdown",
   "metadata": {},
   "source": [
    "![alt text](akley.png \"Title\")"
   ]
  },
  {
   "cell_type": "code",
   "execution_count": 24,
   "metadata": {},
   "outputs": [],
   "source": [
    "fx = lambda x : -20*e**(-0.2*sqrt(0.5*(x[0]**2 + x[1]**2)))-e**(0.5*(cos(2*pi*x[1])+cos(2*pi*x[0])))+e+20"
   ]
  },
  {
   "cell_type": "code",
   "execution_count": 25,
   "metadata": {},
   "outputs": [
    {
     "data": {
      "text/plain": [
       "array([ 6.88180356e+24, -5.97318660e+24])"
      ]
     },
     "execution_count": 25,
     "metadata": {},
     "output_type": "execute_result"
    }
   ],
   "source": [
    "ba = BA(number_of_bats=20, num_dimentions=2, interval=[-5,5], number_of_iterations=50, alfa= 0.9, gamma=0.9)\n",
    "ba.run(fx)"
   ]
  },
  {
   "cell_type": "markdown",
   "metadata": {},
   "source": [
    "### Rastrigin"
   ]
  },
  {
   "cell_type": "markdown",
   "metadata": {},
   "source": [
    "![alt text](ras.png \"Title\")"
   ]
  },
  {
   "cell_type": "code",
   "execution_count": 26,
   "metadata": {},
   "outputs": [],
   "source": [
    "fx = lambda x : 10*2 + (x[0]**2 - 10*cos(2*pi*x[0])) + (x[1]**2 - 10*cos(2*pi*x[1]))"
   ]
  },
  {
   "cell_type": "code",
   "execution_count": 28,
   "metadata": {},
   "outputs": [
    {
     "data": {
      "text/plain": [
       "array([ 0.68072083, -0.84802036])"
      ]
     },
     "execution_count": 28,
     "metadata": {},
     "output_type": "execute_result"
    }
   ],
   "source": [
    "ba = BA(number_of_bats=20, num_dimentions=2, interval=[-5.12,5.12], number_of_iterations=50, alfa= 0.9, gamma=0.9)\n",
    "ba.run(fx)"
   ]
  }
 ],
 "metadata": {
  "interpreter": {
   "hash": "916dbcbb3f70747c44a77c7bcd40155683ae19c65e1c03b4aa3499c5328201f1"
  },
  "kernelspec": {
   "display_name": "Python 3.8.10 64-bit",
   "name": "python3"
  },
  "language_info": {
   "codemirror_mode": {
    "name": "ipython",
    "version": 3
   },
   "file_extension": ".py",
   "mimetype": "text/x-python",
   "name": "python",
   "nbconvert_exporter": "python",
   "pygments_lexer": "ipython3",
   "version": "3.8.10"
  },
  "orig_nbformat": 4
 },
 "nbformat": 4,
 "nbformat_minor": 2
}
