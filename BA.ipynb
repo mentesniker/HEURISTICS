{
 "cells": [
  {
   "cell_type": "code",
   "execution_count": 2,
   "metadata": {},
   "outputs": [],
   "source": [
    "from random import uniform, random\n",
    "from math import e, sqrt,cos,pi\n",
    "import numpy as np"
   ]
  },
  {
   "cell_type": "code",
   "execution_count": 13,
   "metadata": {},
   "outputs": [],
   "source": [
    "class Bat():\n",
    "    def __init__(self,frecuency_min, frecuency_max, position, velocity) -> None:\n",
    "        self.frecuency_min = frecuency_min\n",
    "        self.frecuency_max = frecuency_max\n",
    "        self.current_frecuency = uniform(frecuency_min,frecuency_max)\n",
    "        self.loudness = 1\n",
    "        random_number = random()\n",
    "        self.pulse_interval_initial = random_number\n",
    "        self.current_pulse_interval = random_number\n",
    "        self.velocity = np.array(velocity)\n",
    "        self.position = np.array(position)\n",
    "\n",
    "    def update_frecuency(self):\n",
    "        beta = random()\n",
    "        self.current_frecuency = self.frecuency_min + (self.frecuency_max-self.frecuency_min)*beta\n",
    "\n",
    "    def update_velocity(self, best_sol):\n",
    "        self.velocity = self.velocity + (self.position - best_sol)*self.current_frecuency\n",
    "    \n",
    "    def update_position(self):\n",
    "        self.position = self.position + self.velocity\n",
    "    \n",
    "    def update_loudness(self, alfa):\n",
    "        self.loudness = alfa* self.loudness\n",
    "\n",
    "    def update_pulse_interval(self, gamma, t):\n",
    "        self.current_pulse_interval = self.pulse_interval_initial*(1-(e**(gamma*-1*t)))\n",
    "\n",
    "    def fly_randomly(self, average_loudness, flying_initial):\n",
    "        epsilon = random()\n",
    "        self.position = flying_initial+epsilon*average_loudness\n",
    "    \n",
    "\n",
    "\n",
    "class BA():\n",
    "    def __init__(self, number_of_bats, num_dimentions, interval, alfa, gamma, number_of_iterations=50) -> None:\n",
    "        self.bats = list()\n",
    "        self.number_of_iterations = number_of_iterations\n",
    "        self.alfa = alfa\n",
    "        self.gamma = gamma\n",
    "        for _ in range(0,number_of_bats):\n",
    "            ##todo check velocity and init position\n",
    "            self.bats.append(Bat(frecuency_min=0, frecuency_max=100,\n",
    "             position=[uniform(interval[0], interval[1]) for _ in range(0,num_dimentions)], velocity=[uniform(interval[0], interval[1]) for _ in range(0,num_dimentions)]))\n",
    "\n",
    "    def get_best_position(self,function):\n",
    "        best_bat = self.bats[0]\n",
    "        current_cost_best = function(best_bat.position)\n",
    "        for bat in self.bats:\n",
    "            current_cost_bat = function(bat.position)\n",
    "            if(current_cost_bat < current_cost_best):\n",
    "                best_bat = bat\n",
    "                current_cost_best = current_cost_bat\n",
    "        return best_bat.position, current_cost_best\n",
    "    \n",
    "    def get_average_loudness(self):\n",
    "        average = 0\n",
    "        for bat in self.bats:\n",
    "            average += bat.loudness\n",
    "        return average/len(self.bats)\n",
    "    \n",
    "    def run(self, function):\n",
    "        solution_position = self.get_best_position(function)\n",
    "        for t in range(1, self.number_of_iterations):\n",
    "            best_position, best_cost = self.get_best_position(function)\n",
    "            average_loudness = self.get_average_loudness()\n",
    "            for bat in self.bats:\n",
    "                random_number = random()\n",
    "                bat.update_frecuency()\n",
    "                bat.update_velocity(best_position)\n",
    "                bat.update_position()\n",
    "                if(random_number > bat.current_pulse_interval):\n",
    "                    bat.fly_randomly(average_loudness, best_position)\n",
    "                bat.fly_randomly(average_loudness, bat.position)\n",
    "                if(random_number < bat.loudness and function(bat.position) < best_cost):\n",
    "                    #todo accept solutions\n",
    "                    solution_position = best_position\n",
    "                    bat.update_loudness(self.alfa)\n",
    "                    bat.update_pulse_interval(self.gamma, t)\n",
    "        return solution_position\n"
   ]
  },
  {
   "cell_type": "markdown",
   "metadata": {},
   "source": [
    "## TEST'S"
   ]
  },
  {
   "cell_type": "markdown",
   "metadata": {},
   "source": [
    "### Himmelblau's function"
   ]
  },
  {
   "cell_type": "markdown",
   "metadata": {},
   "source": [
    "![alt text](him.png \"Title\")"
   ]
  },
  {
   "cell_type": "code",
   "execution_count": 4,
   "metadata": {},
   "outputs": [],
   "source": [
    "fx = lambda x : (x[0]**2 + x[1] - 11)**2 + (x[0] + x[1]**2 -7)**2"
   ]
  },
  {
   "cell_type": "code",
   "execution_count": 15,
   "metadata": {},
   "outputs": [
    {
     "name": "stderr",
     "output_type": "stream",
     "text": [
      "/tmp/ipykernel_16330/3189032922.py:1: RuntimeWarning: overflow encountered in double_scalars\n",
      "  fx = lambda x : (x[0]**2 + x[1] - 11)**2 + (x[0] + x[1]**2 -7)**2\n"
     ]
    },
    {
     "data": {
      "text/plain": [
       "(array([ 3.53702562, -1.62861243]), 0.6710044209045315)"
      ]
     },
     "execution_count": 15,
     "metadata": {},
     "output_type": "execute_result"
    }
   ],
   "source": [
    "ba = BA(number_of_bats=20, num_dimentions=2, interval=[-5,5], number_of_iterations=50, alfa= 0.9, gamma=0.9)\n",
    "ba.run(fx)"
   ]
  },
  {
   "cell_type": "markdown",
   "metadata": {},
   "source": [
    "### Ackley function"
   ]
  },
  {
   "cell_type": "markdown",
   "metadata": {},
   "source": [
    "![alt text](akley.png \"Title\")"
   ]
  },
  {
   "cell_type": "code",
   "execution_count": 16,
   "metadata": {},
   "outputs": [],
   "source": [
    "fx = lambda x : -20*e**(-0.2*sqrt(0.5*(x[0]**2 + x[1]**2)))-e**(0.5*(cos(2*pi*x[1])+cos(2*pi*x[0])))+e+20"
   ]
  },
  {
   "cell_type": "code",
   "execution_count": 17,
   "metadata": {},
   "outputs": [
    {
     "data": {
      "text/plain": [
       "array([-4.05596232e+39, -2.96126147e+39])"
      ]
     },
     "execution_count": 17,
     "metadata": {},
     "output_type": "execute_result"
    }
   ],
   "source": [
    "ba = BA(number_of_bats=20, num_dimentions=2, interval=[-5,5], number_of_iterations=50, alfa= 0.9, gamma=0.9)\n",
    "ba.run(fx)"
   ]
  },
  {
   "cell_type": "markdown",
   "metadata": {},
   "source": [
    "### Rastrigin"
   ]
  },
  {
   "cell_type": "markdown",
   "metadata": {},
   "source": [
    "![alt text](ras.png \"Title\")"
   ]
  },
  {
   "cell_type": "code",
   "execution_count": 18,
   "metadata": {},
   "outputs": [],
   "source": [
    "fx = lambda x : 10*2 + (x[0]**2 - 10*cos(2*pi*x[0])) + (x[1]**2 - 10*cos(2*pi*x[1]))"
   ]
  },
  {
   "cell_type": "code",
   "execution_count": 32,
   "metadata": {},
   "outputs": [
    {
     "data": {
      "text/plain": [
       "array([1.70775759, 1.01738101])"
      ]
     },
     "execution_count": 32,
     "metadata": {},
     "output_type": "execute_result"
    }
   ],
   "source": [
    "ba = BA(number_of_bats=20, num_dimentions=2, interval=[-5.12,5.12], number_of_iterations=50, alfa= 0.9, gamma=0.9)\n",
    "ba.run(fx)"
   ]
  }
 ],
 "metadata": {
  "interpreter": {
   "hash": "916dbcbb3f70747c44a77c7bcd40155683ae19c65e1c03b4aa3499c5328201f1"
  },
  "kernelspec": {
   "display_name": "Python 3.8.10 64-bit",
   "name": "python3"
  },
  "language_info": {
   "codemirror_mode": {
    "name": "ipython",
    "version": 3
   },
   "file_extension": ".py",
   "mimetype": "text/x-python",
   "name": "python",
   "nbconvert_exporter": "python",
   "pygments_lexer": "ipython3",
   "version": "3.8.10"
  },
  "orig_nbformat": 4
 },
 "nbformat": 4,
 "nbformat_minor": 2
}
