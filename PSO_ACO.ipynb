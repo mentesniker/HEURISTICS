{
 "cells": [
  {
   "cell_type": "code",
   "execution_count": 5,
   "metadata": {},
   "outputs": [],
   "source": [
    "from math import sin\n",
    "from random import random\n",
    "import numpy as np\n",
    "import matplotlib.pyplot as plt\n",
    "\n",
    "#objective function\n",
    "fx = lambda x,y : (x - 3.14)**2 + (y-2.72)**2 + sin(3*x+1.41) + sin(4*y - 1.73)"
   ]
  },
  {
   "cell_type": "code",
   "execution_count": 6,
   "metadata": {},
   "outputs": [],
   "source": [
    "def get_gbest(particles):\n",
    "    best = particles[0][\"pbest\"]\n",
    "    for i in range(0,len(particles)):\n",
    "        if(particles[i][\"pbest\"][2] < best[2]):\n",
    "            best = particles[i][\"pbest\"]\n",
    "    return best\n",
    "\n",
    "def PSO(w,c1,c2,r1,r2, num_particles, function, num_iterations):\n",
    "    particles_position = list()\n",
    "    for _ in range(0, num_particles):\n",
    "        x = random()\n",
    "        y = random()\n",
    "        z = function(x,y)\n",
    "        particles_position.append(dict({\"x\":x,\"y\":y,\"z\":z, \"pbest\": [x,y,z]}))\n",
    "    particles_velocity = list()\n",
    "    for _ in range(0, num_particles):\n",
    "        vx = random()\n",
    "        vy = random()\n",
    "        vz = random()\n",
    "        particles_velocity.append(dict({\"vx\":vx,\"vy\":vy,\"vz\":vz}))\n",
    "    for _ in range(0, num_iterations):\n",
    "        for particle in range (0, num_particles):\n",
    "            new_position_x = particles_position[particle][\"x\"] + particles_velocity[particle][\"vx\"]\n",
    "            new_position_y = particles_position[particle][\"y\"]+ particles_velocity[particle][\"vy\"]\n",
    "            new_position_z = particles_position[particle][\"z\"] + particles_velocity[particle][\"vz\"]\n",
    "            if(new_position_z < particles_position[particle][\"pbest\"][2]):\n",
    "                particles_position[particle][\"pbest\"][0] = new_position_x\n",
    "                particles_position[particle][\"pbest\"][1] = new_position_y\n",
    "                particles_position[particle][\"pbest\"][2] = new_position_z\n",
    "            particles_position[particle][\"x\"] = new_position_x\n",
    "            particles_position[particle][\"y\"] = new_position_y\n",
    "            particles_position[particle][\"z\"] = new_position_z\n",
    "            bestPosition = get_gbest(particles_position)\n",
    "            particles_velocity[particle][\"vx\"] = w*particles_velocity[particle][\"vx\"] + c1*r1*(particles_position[particle][\"pbest\"][0]-particles_position[particle][\"x\"]) + c2*r2*(bestPosition[0]-particles_position[particle][\"x\"])\n",
    "            particles_velocity[particle][\"vy\"] = w*particles_velocity[particle][\"vy\"] + c1*r1*(particles_position[particle][\"pbest\"][1]-particles_position[particle][\"y\"]) + c2*r2*(bestPosition[1]-particles_position[particle][\"y\"])\n",
    "            particles_velocity[particle][\"vz\"] = w*particles_velocity[particle][\"vz\"] + c1*r1*(particles_position[particle][\"pbest\"][2]-particles_position[particle][\"z\"]) + c2*r2*(bestPosition[2]-particles_position[particle][\"z\"])\n",
    "    return get_gbest(particles_position)"
   ]
  },
  {
   "cell_type": "code",
   "execution_count": 7,
   "metadata": {},
   "outputs": [
    {
     "data": {
      "text/plain": [
       "[4.719840627811711, 1.287902894531249, -11.961930970717823]"
      ]
     },
     "execution_count": 7,
     "metadata": {},
     "output_type": "execute_result"
    }
   ],
   "source": [
    "PSO(0.8,0.1,0.1,3,2,30,fx,30)"
   ]
  }
 ],
 "metadata": {
  "interpreter": {
   "hash": "916dbcbb3f70747c44a77c7bcd40155683ae19c65e1c03b4aa3499c5328201f1"
  },
  "kernelspec": {
   "display_name": "Python 3.8.10 64-bit",
   "name": "python3"
  },
  "language_info": {
   "codemirror_mode": {
    "name": "ipython",
    "version": 3
   },
   "file_extension": ".py",
   "mimetype": "text/x-python",
   "name": "python",
   "nbconvert_exporter": "python",
   "pygments_lexer": "ipython3",
   "version": "3.8.10"
  },
  "orig_nbformat": 4
 },
 "nbformat": 4,
 "nbformat_minor": 2
}
