{
 "cells": [
  {
   "cell_type": "code",
   "execution_count": 105,
   "metadata": {},
   "outputs": [],
   "source": [
    "from random import uniform, random\n",
    "from math import e, sqrt,cos,pi"
   ]
  },
  {
   "cell_type": "code",
   "execution_count": 90,
   "metadata": {},
   "outputs": [],
   "source": [
    "def get_gbest(particles):\n",
    "    best = particles[0][\"pbest\"]\n",
    "    for i in range(0,len(particles)):\n",
    "        if(particles[i][\"pbest\"][2] < best[2]):\n",
    "            best = particles[i][\"pbest\"]\n",
    "    return best\n",
    "\n",
    "def PSO(w,c1,c2, num_particles, function, num_iterations, interval):\n",
    "    particles_position = list()\n",
    "    for _ in range(0, num_particles):\n",
    "        x = uniform(interval[0],interval[1])\n",
    "        y = uniform(interval[0],interval[1])\n",
    "        z = function(x,y)\n",
    "        particles_position.append(dict({\"x\":x,\"y\":y,\"z\":z, \"pbest\": [x,y,z]}))\n",
    "    particles_velocity = list()\n",
    "    for _ in range(0, num_particles):\n",
    "        vx = random()\n",
    "        vy = random()\n",
    "        vz = random()\n",
    "        particles_velocity.append(dict({\"vx\":vx,\"vy\":vy,\"vz\":vz}))\n",
    "    for _ in range(0, num_iterations):\n",
    "        for particle in range (0, num_particles):\n",
    "            new_position_x = particles_position[particle][\"x\"] + particles_velocity[particle][\"vx\"]\n",
    "            new_position_y = particles_position[particle][\"y\"]+ particles_velocity[particle][\"vy\"]\n",
    "            new_position_z = particles_position[particle][\"z\"] + particles_velocity[particle][\"vz\"]\n",
    "            if(new_position_z < particles_position[particle][\"pbest\"][2]):\n",
    "                particles_position[particle][\"pbest\"][0] = new_position_x\n",
    "                particles_position[particle][\"pbest\"][1] = new_position_y\n",
    "                particles_position[particle][\"pbest\"][2] = new_position_z\n",
    "            particles_position[particle][\"x\"] = new_position_x\n",
    "            particles_position[particle][\"y\"] = new_position_y\n",
    "            particles_position[particle][\"z\"] = new_position_z\n",
    "            bestPosition = get_gbest(particles_position)\n",
    "            r1 = random()\n",
    "            r2 = random()\n",
    "            particles_velocity[particle][\"vx\"] = w*particles_velocity[particle][\"vx\"] + c1*r1*(particles_position[particle][\"pbest\"][0]-particles_position[particle][\"x\"]) + c2*r2*(bestPosition[0]-particles_position[particle][\"x\"])\n",
    "            particles_velocity[particle][\"vy\"] = w*particles_velocity[particle][\"vy\"] + c1*r1*(particles_position[particle][\"pbest\"][1]-particles_position[particle][\"y\"]) + c2*r2*(bestPosition[1]-particles_position[particle][\"y\"])\n",
    "            particles_velocity[particle][\"vz\"] = w*particles_velocity[particle][\"vz\"] + c1*r1*(particles_position[particle][\"pbest\"][2]-particles_position[particle][\"z\"]) + c2*r2*(bestPosition[2]-particles_position[particle][\"z\"])\n",
    "    return get_gbest(particles_position)"
   ]
  },
  {
   "cell_type": "markdown",
   "metadata": {},
   "source": [
    "## TEST'S"
   ]
  },
  {
   "cell_type": "markdown",
   "metadata": {},
   "source": [
    "### Himmelblau's function"
   ]
  },
  {
   "cell_type": "markdown",
   "metadata": {},
   "source": [
    "![alt text](him.png \"Title\")"
   ]
  },
  {
   "cell_type": "code",
   "execution_count": 109,
   "metadata": {},
   "outputs": [],
   "source": [
    "fx = lambda x,y : (x**2 + y - 11)**2 + (x + y**2 -7)**2"
   ]
  },
  {
   "cell_type": "code",
   "execution_count": 115,
   "metadata": {},
   "outputs": [
    {
     "data": {
      "text/plain": [
       "[-3.1957942124405525, 3.344029285416477, 7.51256468625941]"
      ]
     },
     "execution_count": 115,
     "metadata": {},
     "output_type": "execute_result"
    }
   ],
   "source": [
    "PSO(w=0.4, c1=0.1,c2=0.1,num_particles=20,function=fx,num_iterations=150,interval=[-5,5])"
   ]
  },
  {
   "cell_type": "markdown",
   "metadata": {},
   "source": [
    "### Ackley function"
   ]
  },
  {
   "cell_type": "markdown",
   "metadata": {},
   "source": [
    "![alt text](akley.png \"Title\")"
   ]
  },
  {
   "cell_type": "code",
   "execution_count": 101,
   "metadata": {},
   "outputs": [],
   "source": [
    "fx = lambda x,y : -20*e**(-0.2*sqrt(0.5*(x**2 + y**2)))-e**(0.5*(cos(2*pi*y)+cos(2*pi*x)))+e+20"
   ]
  },
  {
   "cell_type": "code",
   "execution_count": 103,
   "metadata": {},
   "outputs": [
    {
     "data": {
      "text/plain": [
       "[-1.0516494265867768, 0.12278030729284062, 3.2008576732450926]"
      ]
     },
     "execution_count": 103,
     "metadata": {},
     "output_type": "execute_result"
    }
   ],
   "source": [
    "PSO(w=0.4, c1=0.1,c2=0.1,num_particles=20,function=fx,num_iterations=100,interval=[-5,5])"
   ]
  },
  {
   "cell_type": "markdown",
   "metadata": {},
   "source": [
    "### Rastrigin"
   ]
  },
  {
   "cell_type": "markdown",
   "metadata": {},
   "source": [
    "![alt text](ras.png \"Title\")"
   ]
  },
  {
   "cell_type": "code",
   "execution_count": 119,
   "metadata": {},
   "outputs": [],
   "source": [
    "fx = lambda x,y : 10*2 + (x**2 - 10*cos(2*pi*x)) + (y**2 - 10*cos(2*pi*y))"
   ]
  },
  {
   "cell_type": "code",
   "execution_count": 121,
   "metadata": {},
   "outputs": [
    {
     "data": {
      "text/plain": [
       "[-0.019987162889986365, 2.024162628015408, 4.291408511020096]"
      ]
     },
     "execution_count": 121,
     "metadata": {},
     "output_type": "execute_result"
    }
   ],
   "source": [
    "PSO(w=0.4, c1=0.1,c2=0.1,num_particles=20,function=fx,num_iterations=100,interval=[-5.12,5.12])"
   ]
  }
 ],
 "metadata": {
  "interpreter": {
   "hash": "916dbcbb3f70747c44a77c7bcd40155683ae19c65e1c03b4aa3499c5328201f1"
  },
  "kernelspec": {
   "display_name": "Python 3.8.10 64-bit",
   "name": "python3"
  },
  "language_info": {
   "codemirror_mode": {
    "name": "ipython",
    "version": 3
   },
   "file_extension": ".py",
   "mimetype": "text/x-python",
   "name": "python",
   "nbconvert_exporter": "python",
   "pygments_lexer": "ipython3",
   "version": "3.8.10"
  },
  "orig_nbformat": 4
 },
 "nbformat": 4,
 "nbformat_minor": 2
}
