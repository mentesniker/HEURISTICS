{
 "cells": [
  {
   "cell_type": "code",
   "execution_count": 1,
   "metadata": {},
   "outputs": [],
   "source": [
    "from random import uniform, random\n",
    "from math import e, sqrt,cos,pi\n",
    "import numpy as np"
   ]
  },
  {
   "cell_type": "code",
   "execution_count": 17,
   "metadata": {},
   "outputs": [],
   "source": [
    "'''\n",
    "Class Particle.\n",
    "A particle is an object that has a position, velocity and a \"cost\" of that position.\n",
    "Aditionally, a particle has a memory capable of storing the best position\n",
    "and the best cost that it has found.\n",
    "'''\n",
    "class Particle():\n",
    "    '''\n",
    "    The constructor of the class.\n",
    "    Params: \n",
    "        - init_position: A numpy array that contains the coordinates of the initial\n",
    "        position of the particle.\n",
    "        - init_best: The cost of the initial position.\n",
    "        - velocity: A numpy array that contains the velocities of the particle.\n",
    "        One entry for dimention.\n",
    "    '''\n",
    "    def __init__(self, init_position, init_best, velocity) -> None:\n",
    "        self.current_position = init_position\n",
    "        self.current_position_cost = init_best\n",
    "        self.best_position = init_position\n",
    "        self.best_position_cost = init_best\n",
    "        self.velocity = velocity\n",
    "\n",
    "    '''\n",
    "    Method to update the velocity of the particle.\n",
    "    Params: \n",
    "        - c1, c2: social coeficients of the swarm.\n",
    "        - w: Constant to control the flying speed.\n",
    "        - best: the best position found by the swarm.\n",
    "    '''\n",
    "    def update_velocity(self, c1,c2,w,best):\n",
    "        r1 = random()\n",
    "        r2 = random()\n",
    "        self.velocity = w*self.velocity + c1*r1*(self.best_position-self.current_position) + c2*r2*(best-self.current_position)\n",
    "\n",
    "    '''\n",
    "    Method to update the position of the particle.\n",
    "    Params: \n",
    "        - function: the cost function.\n",
    "    '''\n",
    "    def update_position(self,function):\n",
    "        self.current_position = self.current_position + self.velocity\n",
    "        self.current_position_cost = function(self.current_position)\n",
    "        if(self.current_position_cost < self.best_position_cost):\n",
    "            self.best_position = self.current_position\n",
    "            self.best_position_cost = self.current_position_cost\n",
    "\n",
    "'''\n",
    "Class Swarm.\n",
    "A swarm is a list of particles.\n",
    "The particles in the swarm are capable of identifying the best particle\n",
    "in the swarm.\n",
    "'''\n",
    "class Swarm():\n",
    "    '''\n",
    "    The constructor of the class.\n",
    "    '''\n",
    "    def __init__(self) -> None:\n",
    "        self.particles = list()\n",
    "\n",
    "    '''\n",
    "    Method to add a particle to the swarm.\n",
    "    Params: \n",
    "        - particle: object of type particle that contains the particle to\n",
    "        be appended to the particles list.\n",
    "    '''\n",
    "    def add_particle(self,particle):\n",
    "        self.particles.append(particle)\n",
    "\n",
    "    '''\n",
    "    Method to get the best position of the swarm.\n",
    "    Return: \n",
    "        - best_pos: a numpy array with the best position\n",
    "        of the swarm\n",
    "    '''\n",
    "    def get_gbest(self):\n",
    "        best_cost = self.particles[0].best_position_cost\n",
    "        best_pos = self.particles[0].best_position\n",
    "        for i in range(0,len(self.particles)):\n",
    "            if(self.particles[i].best_position_cost < best_cost):\n",
    "                best_cost = self.particles[i].best_position_cost\n",
    "                best_pos = self.particles[i].best_position\n",
    "        return best_pos\n",
    "\n",
    "'''\n",
    "Class PSO.\n",
    "Class to run the particle swarm optimization with respect of the\n",
    "given function.\n",
    "'''\n",
    "class PSO():\n",
    "    '''\n",
    "    The constructor of the class.\n",
    "    Params: \n",
    "        - num_particles:  The number of particles in the swarm.\n",
    "        - num_params: The number of dimentions of the objective function.\n",
    "        - interval: An interval to grab the intial postion of the particles.\n",
    "        - function: The objective function\n",
    "    '''\n",
    "    def __init__(self,num_particles,num_params, interval, function) -> None:\n",
    "        self.swarm = Swarm()\n",
    "        self.dimentions = num_params\n",
    "        self.function = function\n",
    "        for _ in range(num_particles):\n",
    "            current_pos = np.array([uniform(interval[0],interval[1]) for _ in range(0,num_params)])\n",
    "            current_best = function(current_pos)\n",
    "            self.swarm.add_particle(Particle(current_pos,current_best,np.array([random() for _ in range(0,num_params)])))\n",
    "    '''\n",
    "    Method to run the PSO heuristic over the objective function.\n",
    "    Params: \n",
    "        - c1, c2: social coeficients of the swarm.\n",
    "        - w: Constant to control the flying speed.\n",
    "        - num_iteration: The number of the iterations for the PSO heuristic.\n",
    "    Return: \n",
    "        - self.swarm.get_gbest(): The best solution found by the swarm.\n",
    "    '''\n",
    "    def run(self,w,c1,c2, num_iterations):\n",
    "        for _ in range(0, num_iterations):\n",
    "            for particle in self.swarm.particles:\n",
    "                particle.update_position(self.function)\n",
    "                bestPosition = self.swarm.get_gbest()\n",
    "                particle.update_velocity(c1,c2,w, bestPosition)\n",
    "        return self.swarm.get_gbest()"
   ]
  },
  {
   "cell_type": "markdown",
   "metadata": {},
   "source": [
    "## TEST'S"
   ]
  },
  {
   "cell_type": "markdown",
   "metadata": {},
   "source": [
    "### Himmelblau's function"
   ]
  },
  {
   "cell_type": "markdown",
   "metadata": {},
   "source": [
    "![alt text](him.png \"Title\")"
   ]
  },
  {
   "cell_type": "code",
   "execution_count": 8,
   "metadata": {},
   "outputs": [],
   "source": [
    "fx = lambda x : (x[0]**2 + x[1] - 11)**2 + (x[0] + x[1]**2 -7)**2"
   ]
  },
  {
   "cell_type": "code",
   "execution_count": 18,
   "metadata": {},
   "outputs": [
    {
     "data": {
      "text/plain": [
       "array([2.84112134, 2.07760395])"
      ]
     },
     "execution_count": 18,
     "metadata": {},
     "output_type": "execute_result"
    }
   ],
   "source": [
    "pso = PSO(num_particles=20,num_params=2, interval=[-5,5], function=fx)\n",
    "pso.run(w=0.4,c1=0.1,c2=0.1, num_iterations=100)"
   ]
  },
  {
   "cell_type": "markdown",
   "metadata": {},
   "source": [
    "### Ackley function"
   ]
  },
  {
   "cell_type": "markdown",
   "metadata": {},
   "source": [
    "![alt text](akley.png \"Title\")"
   ]
  },
  {
   "cell_type": "code",
   "execution_count": 21,
   "metadata": {},
   "outputs": [],
   "source": [
    "fx = lambda x : -20*e**(-0.2*sqrt(0.5*(x[0]**2 + x[1]**2)))-e**(0.5*(cos(2*pi*x[1])+cos(2*pi*x[0])))+e+20"
   ]
  },
  {
   "cell_type": "code",
   "execution_count": 22,
   "metadata": {},
   "outputs": [
    {
     "data": {
      "text/plain": [
       "array([ 0.00068249, -0.0002427 ])"
      ]
     },
     "execution_count": 22,
     "metadata": {},
     "output_type": "execute_result"
    }
   ],
   "source": [
    "pso = PSO(num_particles=20,num_params=2, interval=[-5,5], function=fx)\n",
    "pso.run(w=0.4,c1=0.1,c2=0.1, num_iterations=100)"
   ]
  },
  {
   "cell_type": "markdown",
   "metadata": {},
   "source": [
    "### Rastrigin"
   ]
  },
  {
   "cell_type": "markdown",
   "metadata": {},
   "source": [
    "![alt text](ras.png \"Title\")"
   ]
  },
  {
   "cell_type": "code",
   "execution_count": 23,
   "metadata": {},
   "outputs": [],
   "source": [
    "fx = lambda x : 10*2 + (x[0]**2 - 10*cos(2*pi*x[0])) + (x[1]**2 - 10*cos(2*pi*x[1]))"
   ]
  },
  {
   "cell_type": "code",
   "execution_count": 25,
   "metadata": {},
   "outputs": [
    {
     "data": {
      "text/plain": [
       "array([-0.0106586 , -0.01246273])"
      ]
     },
     "execution_count": 25,
     "metadata": {},
     "output_type": "execute_result"
    }
   ],
   "source": [
    "pso = PSO(num_particles=20,num_params=2, interval=[-5,5], function=fx)\n",
    "pso.run(w=0.4,c1=0.1,c2=0.1, num_iterations=100)"
   ]
  }
 ],
 "metadata": {
  "interpreter": {
   "hash": "916dbcbb3f70747c44a77c7bcd40155683ae19c65e1c03b4aa3499c5328201f1"
  },
  "kernelspec": {
   "display_name": "Python 3.8.10 64-bit",
   "name": "python3"
  },
  "language_info": {
   "codemirror_mode": {
    "name": "ipython",
    "version": 3
   },
   "file_extension": ".py",
   "mimetype": "text/x-python",
   "name": "python",
   "nbconvert_exporter": "python",
   "pygments_lexer": "ipython3",
   "version": "3.8.10"
  },
  "orig_nbformat": 4
 },
 "nbformat": 4,
 "nbformat_minor": 2
}
